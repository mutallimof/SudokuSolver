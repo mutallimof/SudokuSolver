{
  "cells": [
    {
      "cell_type": "code",
      "execution_count": 27,
      "metadata": {
        "id": "dFQtkkBQJlno"
      },
      "outputs": [],
      "source": [
        "import torch\n",
        "import torch.nn as nn\n",
        "import torch.optim as optim\n",
        "import torch.nn.functional as F\n",
        "import pandas as pd\n",
        "import numpy as np\n",
        "from torchvision import datasets, transforms\n",
        "from torch.utils.data import DataLoader\n",
        "from torch.nn.functional import one_hot\n",
        "import matplotlib.pyplot as plt\n",
        "from torch.utils.data import DataLoader, TensorDataset"
      ]
    },
    {
      "cell_type": "code",
      "execution_count": 28,
      "metadata": {
        "colab": {
          "base_uri": "https://localhost:8080/"
        },
        "id": "eybwSs8NJgDO",
        "outputId": "53d2b81d-2ed5-404d-8015-c91ec86c2ff0"
      },
      "outputs": [
        {
          "output_type": "execute_result",
          "data": {
            "text/plain": [
              "device(type='cpu')"
            ]
          },
          "metadata": {},
          "execution_count": 28
        }
      ],
      "source": [
        "device = torch.device('cuda' if torch.cuda.is_available() else 'cpu')\n",
        "device"
      ]
    },
    {
      "cell_type": "markdown",
      "source": [
        "### Load Sudoku dataset"
      ],
      "metadata": {
        "id": "Gp5H9Hg2BB8_"
      }
    },
    {
      "cell_type": "code",
      "execution_count": 29,
      "metadata": {
        "colab": {
          "base_uri": "https://localhost:8080/"
        },
        "id": "_98GEd1ZEJvC",
        "outputId": "6458ce31-a1d0-4df7-9164-697986bf0236"
      },
      "outputs": [
        {
          "output_type": "execute_result",
          "data": {
            "text/plain": [
              "torch.Size([50000, 1, 9, 9])"
            ]
          },
          "metadata": {},
          "execution_count": 29
        }
      ],
      "source": [
        "imagesGrid = np.load('images_grid.npy')\n",
        "labelsGrid = np.load('labels_grid.npy')\n",
        "\n",
        "\n",
        "imgG = torch.tensor(imagesGrid).float().reshape((50000,1,9,9))\n",
        "labG = torch.tensor(labelsGrid).float().reshape((50000,1,9,9))\n",
        "imgG.shape"
      ]
    },
    {
      "cell_type": "code",
      "execution_count": 30,
      "metadata": {
        "id": "5uHS843974lc"
      },
      "outputs": [],
      "source": [
        "trainset = torch.utils.data.TensorDataset(imgG.to(device),labG.to(device))\n",
        "dataloader = torch.utils.data.DataLoader(trainset,batch_size=128,shuffle=True)"
      ]
    },
    {
      "cell_type": "markdown",
      "source": [
        "### CNN model"
      ],
      "metadata": {
        "id": "62rbPlZ6Ampw"
      }
    },
    {
      "cell_type": "code",
      "execution_count": 31,
      "metadata": {
        "id": "_EJy4zns5sDF"
      },
      "outputs": [],
      "source": [
        "class SudokuSolverCNN(nn.Module):\n",
        "    def __init__(self):\n",
        "        super(SudokuSolverCNN, self).__init__()\n",
        "        # Convolutional layers\n",
        "        self.conv1 = nn.Conv2d(1, 64, kernel_size=3, padding=1)\n",
        "        self.conv2 = nn.Conv2d(64, 128, kernel_size=3, padding=1)\n",
        "        self.conv3 = nn.Conv2d(128, 64, kernel_size=3, padding=1)\n",
        "        # Fully connected layers\n",
        "        self.fc1 = nn.Linear(64 * 9 * 9, 81*9)  # Output size: 81*9 to represent digits 1-9 in each cell\n",
        "        self.fc2 = nn.Linear(81*9, 9 * 9 )\n",
        "\n",
        "    def forward(self, x):\n",
        "        # Input shape: N, 1, 9, 9\n",
        "        x = F.relu(self.conv1(x))\n",
        "        x = F.relu(self.conv2(x))\n",
        "        x = F.relu(self.conv3(x))\n",
        "        x = x.view(x.size(0), -1)  # Flatten the output for fully connected layers\n",
        "        x = F.relu(self.fc1(x))\n",
        "        x = self.fc2(x)\n",
        "        x = x.view(-1, 9,9)  # Reshape to N, 9, 9\n",
        "        return x"
      ]
    },
    {
      "cell_type": "code",
      "source": [
        "class SudokuSolverCNN2(nn.Module):\n",
        "    def __init__(self):\n",
        "        super(SudokuSolverCNN2, self).__init__()\n",
        "        # Convolutional layers\n",
        "        self.conv1 = nn.Conv2d(1, 64, kernel_size=3, padding=1)\n",
        "        self.conv2 = nn.Conv2d(64, 128, kernel_size=3, padding=1)\n",
        "        self.conv3 = nn.Conv2d(128, 64, kernel_size=3, padding=1)\n",
        "        # Fully connected layers\n",
        "        self.fc1 = nn.Linear(64 * 9 * 9, 81*9)  # Output size: 81*9 to represent digits 1-9 in each cell\n",
        "        self.fc2 = nn.Linear(81*9, 9 * 9 * 9 )\n",
        "\n",
        "    def forward(self, x):\n",
        "        # Input shape: N, 1, 9, 9\n",
        "        x = F.relu(self.conv1(x))\n",
        "        x = F.relu(self.conv2(x))\n",
        "        x = F.relu(self.conv3(x))\n",
        "        x = x.view(x.size(0), -1)  # Flatten the output for fully connected layers\n",
        "        x = F.relu(self.fc1(x))\n",
        "        x = self.fc2(x)\n",
        "        x = x.view(-1, 9 * 9 * 9)  # Reshape to N, 9, 9\n",
        "        return x"
      ],
      "metadata": {
        "id": "d1iuT07Vberk"
      },
      "execution_count": null,
      "outputs": []
    },
    {
      "cell_type": "code",
      "execution_count": 32,
      "metadata": {
        "colab": {
          "base_uri": "https://localhost:8080/"
        },
        "id": "KxYUFXuaeoqY",
        "outputId": "a30ba0c6-4929-4be5-a549-abd6dc5c68d6"
      },
      "outputs": [
        {
          "output_type": "execute_result",
          "data": {
            "text/plain": [
              "SudokuSolverCNN(\n",
              "  (conv1): Conv2d(1, 64, kernel_size=(3, 3), stride=(1, 1), padding=(1, 1))\n",
              "  (conv2): Conv2d(64, 128, kernel_size=(3, 3), stride=(1, 1), padding=(1, 1))\n",
              "  (conv3): Conv2d(128, 64, kernel_size=(3, 3), stride=(1, 1), padding=(1, 1))\n",
              "  (fc1): Linear(in_features=5184, out_features=729, bias=True)\n",
              "  (fc2): Linear(in_features=729, out_features=81, bias=True)\n",
              ")"
            ]
          },
          "metadata": {},
          "execution_count": 32
        }
      ],
      "source": [
        "model = SudokuSolverCNN()\n",
        "model"
      ]
    },
    {
      "cell_type": "markdown",
      "source": [
        "### MSE Loss with 'standard rules'"
      ],
      "metadata": {
        "id": "sEU1bHkSCh9e"
      }
    },
    {
      "cell_type": "code",
      "execution_count": 33,
      "metadata": {
        "id": "hYzOZP3aK_iv"
      },
      "outputs": [],
      "source": [
        "def SudokuLoss(out):\n",
        "  N = out.shape[0]\n",
        "  rows_sum_true = (torch.ones((N,9))*45).to(device)/81\n",
        "  col_sum_true = (torch.ones((N,9))*45).to(device)/81\n",
        "  grid_sum_true = (torch.ones((N*9))*45).to(device)/81\n",
        "  rows_sum = out.sum(dim=1) / 81\n",
        "  col_sum = out.sum(dim=2) / 81\n",
        "  row_sum_loss = nn.MSELoss()(rows_sum_true,rows_sum)\n",
        "  col_sum_loss = nn.MSELoss()(col_sum_true,col_sum)\n",
        "\n",
        "  grid_sum = Grid_sum(out).to(device) / 81\n",
        "  grid_sum_loss = nn.MSELoss()(grid_sum_true,grid_sum)\n",
        "  # unique count.\n",
        "\n",
        "\n",
        "  loss = grid_sum_loss + col_sum_loss + row_sum_loss\n",
        "\n",
        "  return loss\n",
        "\n",
        "def Grid_sum(out):\n",
        "  g1 = out[:,0:3,0:3].sum(dim=1).sum(dim=1)\n",
        "  g2 = out[:,3:6,0:3].sum(dim=1).sum(dim=1)\n",
        "  g3 = out[:,6:9,0:3].sum(dim=1).sum(dim=1)\n",
        "  g4 = out[:,0:3,3:6].sum(dim=1).sum(dim=1)\n",
        "  g5 = out[:,3:6,3:6].sum(dim=1).sum(dim=1)\n",
        "  g6 = out[:,6:9,3:6].sum(dim=1).sum(dim=1)\n",
        "  g7 = out[:,0:3,6:9].sum(dim=1).sum(dim=1)\n",
        "  g8 = out[:,3:6,6:9].sum(dim=1).sum(dim=1)\n",
        "  g9 = out[:,6:9,6:9].sum(dim=1).sum(dim=1)\n",
        "  return torch.cat([g1,g2,g3,g4,g5,g6,g7,g8,g9])\n",
        "\n",
        "\n",
        "\n"
      ]
    },
    {
      "cell_type": "markdown",
      "source": [
        "### Training"
      ],
      "metadata": {
        "id": "42ByLxMSBJS8"
      }
    },
    {
      "cell_type": "code",
      "execution_count": 46,
      "metadata": {
        "colab": {
          "base_uri": "https://localhost:8080/"
        },
        "id": "keKpcJ6m8dGt",
        "outputId": "bd3609c1-1ddb-4792-ab55-b5be4a3dd856"
      },
      "outputs": [
        {
          "output_type": "stream",
          "name": "stdout",
          "text": [
            "loss : 0.7673509947174345\n",
            "loss : 0.7633225942206809\n",
            "loss : 0.750477567353212\n",
            "loss : 0.7346383807299387\n",
            "loss : 0.7182409190155966\n",
            "loss : 0.7016831389473527\n",
            "loss : 0.6850847822930807\n",
            "loss : 0.6685546285965863\n",
            "loss : 0.6522732902975643\n",
            "loss : 0.6363849687149458\n"
          ]
        }
      ],
      "source": [
        "his = []\n",
        "acc = []\n",
        "epochs = 10\n",
        "model = model.to(device)\n",
        "optimizer = torch.optim.Adam(model.parameters(),lr=0.0001)\n",
        "\n",
        "#criterion = nn.MSELoss()\n",
        "\n",
        "for epoch in range(epochs):\n",
        "    total_loss = 0.0\n",
        "    model.train()\n",
        "    for inputs,targets in dataloader:\n",
        "        optimizer.zero_grad\n",
        "\n",
        "        outs = model(inputs/9)\n",
        "        #print(outs.shape,targets.shape)\n",
        "\n",
        "        #pred_flat = outs.view(inputs.shape[0] * 9, 81)\n",
        "        #target_flat = targets.view(targets.shape[0] *9, 9)\n",
        "\n",
        "        # Calculate cross-entropy loss\n",
        "        #loss = F.cross_entropy(pred_flat, torch.argmax(target_flat, dim=1))\n",
        "\n",
        "\n",
        "        loss = SudokuLoss(outs)#\n",
        "        #print(loss)\n",
        "        #break\n",
        "        #loss = criterion(outs.reshape(outs.shape[0],1,9,9),targets)\n",
        "\n",
        "        loss.backward()\n",
        "        optimizer.step()\n",
        "\n",
        "        total_loss+= loss.item()\n",
        "        his.append(loss.item())\n",
        "\n",
        "    avg_loss = total_loss/len(dataloader)\n",
        "    print(f'loss : {avg_loss}')"
      ]
    },
    {
      "cell_type": "code",
      "source": [
        "plt.plot(his)"
      ],
      "metadata": {
        "colab": {
          "base_uri": "https://localhost:8080/",
          "height": 447
        },
        "id": "5xdRhkYFYFZr",
        "outputId": "121088a6-0198-4f74-d921-218d4c3d8c9b"
      },
      "execution_count": 47,
      "outputs": [
        {
          "output_type": "execute_result",
          "data": {
            "text/plain": [
              "[<matplotlib.lines.Line2D at 0x7ca1e9e0cb50>]"
            ]
          },
          "metadata": {},
          "execution_count": 47
        },
        {
          "output_type": "display_data",
          "data": {
            "text/plain": [
              "<Figure size 640x480 with 1 Axes>"
            ],
            "image/png": "[encoded data removed]"
          },
          "metadata": {}
        }
      ]
    },
    {
      "cell_type": "code",
      "execution_count": 48,
      "metadata": {
        "colab": {
          "base_uri": "https://localhost:8080/"
        },
        "id": "M5NH_85zK2cH",
        "outputId": "b4a77cfc-9378-45f6-db4f-a94d5bef4f14"
      },
      "outputs": [
        {
          "output_type": "execute_result",
          "data": {
            "text/plain": [
              "(tensor([[[0, 0, 0, 0, 0, 0, 1, 0, 0],\n",
              "          [0, 1, 0, 0, 1, 0, 1, 1, 0],\n",
              "          [0, 1, 1, 1, 0, 0, 0, 0, 0],\n",
              "          [0, 1, 0, 0, 0, 1, 0, 1, 1],\n",
              "          [0, 1, 0, 0, 0, 1, 0, 0, 0],\n",
              "          [0, 0, 0, 0, 0, 0, 0, 0, 0],\n",
              "          [0, 0, 0, 0, 1, 0, 0, 0, 0],\n",
              "          [0, 0, 0, 0, 0, 0, 0, 0, 0],\n",
              "          [0, 0, 0, 0, 0, 0, 0, 0, 0]]], dtype=torch.int32),\n",
              " tensor([[[7, 3, 8, 9, 5, 2, 4, 1, 6],\n",
              "          [2, 1, 6, 3, 7, 4, 9, 5, 8],\n",
              "          [9, 5, 4, 1, 8, 6, 4, 2, 3],\n",
              "          [1, 8, 2, 6, 3, 7, 5, 9, 4],\n",
              "          [6, 9, 3, 4, 1, 5, 8, 7, 2],\n",
              "          [4, 7, 5, 8, 2, 9, 3, 6, 1],\n",
              "          [3, 6, 7, 5, 4, 1, 2, 8, 9],\n",
              "          [5, 4, 9, 2, 6, 8, 1, 3, 7],\n",
              "          [8, 3, 1, 7, 9, 3, 6, 4, 5]]], dtype=torch.int32))"
            ]
          },
          "metadata": {},
          "execution_count": 48
        }
      ],
      "source": [
        "(model(inputs[0:1]/9)).int(),targets[0:1].int()[0]"
      ]
    },
    {
      "cell_type": "markdown",
      "source": [
        "### Predictions for Kaggle"
      ],
      "metadata": {
        "id": "7Zw-ohrYBeYA"
      }
    },
    {
      "cell_type": "code",
      "source": [
        "all_output = np.zeros((10000, 9, 9))\n",
        "all_ids = []\n",
        "images_test_grid = np.load('images_test_grid.npy')\n",
        "for n in range(10000):\n",
        "  input = torch.tensor(images_test_grid[n]).float().reshape((1,1, 9,9)) # shape = batch_size, number of neurons in first layer of linear model.\n",
        "  output = (model(input)*9).int()\n",
        "  all_output[n] = images_test_grid[n]\n",
        "  for i in range(9):\n",
        "    for j in range(9):\n",
        "      id = f'{n}_{i}{j}'\n",
        "      all_ids.append(id)\n",
        "      #print(all_output[n,i,j])\n",
        "      if int(all_output[n,i,j]) ==0:\n",
        "        #print(all_output[n,i,j])\n",
        "        all_output[n, i, j] = output[0,i,j].item()\n"
      ],
      "metadata": {
        "id": "zAnSLtm8hDYS"
      },
      "execution_count": 49,
      "outputs": []
    },
    {
      "cell_type": "markdown",
      "source": [
        "### Training with MSE Loss"
      ],
      "metadata": {
        "id": "VDFb7otzJgSJ"
      }
    },
    {
      "cell_type": "code",
      "source": [
        "his1 = []\n",
        "acc = []\n",
        "epochs = 10\n",
        "model = model.to(device)\n",
        "optimizer = torch.optim.Adam(model.parameters(),lr=0.0001)\n",
        "\n",
        "criterion = nn.MSELoss()\n",
        "\n",
        "for epoch in range(epochs):\n",
        "    total_loss = 0.0\n",
        "    model.train()\n",
        "    for inputs,targets in dataloader:\n",
        "        optimizer.zero_grad\n",
        "\n",
        "        outs = model(inputs/9)\n",
        "        #print(outs.shape,targets.shape)\n",
        "\n",
        "\n",
        "        loss = criterion(outs,targets[:,0]/9)#\n",
        "        #print(loss)\n",
        "        #break\n",
        "        #loss = criterion(outs.reshape(outs.shape[0],1,9,9),targets)\n",
        "\n",
        "        loss.backward()\n",
        "        optimizer.step()\n",
        "\n",
        "        total_loss+= loss.item()\n",
        "        his1.append(loss.item())\n",
        "\n",
        "    avg_loss = total_loss/len(dataloader)\n",
        "    print(f'loss : {avg_loss}')"
      ],
      "metadata": {
        "colab": {
          "base_uri": "https://localhost:8080/"
        },
        "id": "dInpFxkgJQ26",
        "outputId": "043e9717-8107-47ba-eab1-4c107e44007d"
      },
      "execution_count": 41,
      "outputs": [
        {
          "output_type": "stream",
          "name": "stdout",
          "text": [
            "loss : 0.08315704402792484\n",
            "loss : 0.08276505989339346\n",
            "loss : 0.08524276935459708\n",
            "loss : 0.08961268653497671\n",
            "loss : 0.09412495336492958\n",
            "loss : 0.09665601494748269\n",
            "loss : 0.09610532071736767\n",
            "loss : 0.0931994033324749\n",
            "loss : 0.08763145849756572\n",
            "loss : 0.0876782925232597\n"
          ]
        }
      ]
    },
    {
      "cell_type": "code",
      "source": [
        "plt.plot(his1)"
      ],
      "metadata": {
        "colab": {
          "base_uri": "https://localhost:8080/",
          "height": 447
        },
        "id": "21rj-LSwJW93",
        "outputId": "da26a18a-dcda-4a37-ce3e-fb55082cb8c2"
      },
      "execution_count": 42,
      "outputs": [
        {
          "output_type": "execute_result",
          "data": {
            "text/plain": [
              "[<matplotlib.lines.Line2D at 0x7ca1e9a2bd00>]"
            ]
          },
          "metadata": {},
          "execution_count": 42
        },
        {
          "output_type": "display_data",
          "data": {
            "text/plain": [
              "<Figure size 640x480 with 1 Axes>"
            ],
            "image/png": "[encoded data removed]"
          },
          "metadata": {}
        }
      ]
    },
    {
      "cell_type": "code",
      "source": [
        "all_output = np.zeros((10000, 9, 9))\n",
        "all_ids = []\n",
        "images_test_grid = np.load('images_test_grid.npy')\n",
        "for n in range(10000):\n",
        "  input = torch.tensor(images_test_grid[n]).float().reshape((1,1, 9,9)) # shape = batch_size, number of neurons in first layer of linear model.\n",
        "  output = (model(input)*9).int()\n",
        "  all_output[n] = images_test_grid[n]\n",
        "  for i in range(9):\n",
        "    for j in range(9):\n",
        "      id = f'{n}_{i}{j}'\n",
        "      all_ids.append(id)\n",
        "      #print(all_output[n,i,j])\n",
        "      if int(all_output[n,i,j]) ==0:\n",
        "        #print(all_output[n,i,j])\n",
        "        all_output[n, i, j] = output[0,i,j].item()\n"
      ],
      "metadata": {
        "id": "7uXUNFpQJdY5"
      },
      "execution_count": 43,
      "outputs": []
    },
    {
      "cell_type": "markdown",
      "source": [
        "### Training with Cross-Entropy Loss"
      ],
      "metadata": {
        "id": "VOH4JpaqJmO4"
      }
    },
    {
      "cell_type": "code",
      "source": [
        "his2 = []\n",
        "acc = []\n",
        "epochs = 10\n",
        "model = model.to(device)\n",
        "optimizer = torch.optim.Adam(model.parameters(),lr=0.0001)\n",
        "\n",
        "criterion = nn.CrossEntropyLoss()\n",
        "\n",
        "for epoch in range(epochs):\n",
        "    total_loss = 0.0\n",
        "    model.train()\n",
        "    for inputs,targets in dataloader:\n",
        "        optimizer.zero_grad\n",
        "\n",
        "        outs = model(inputs/9)\n",
        "        #print(outs.shape,targets.shape)\n",
        "\n",
        "        #pred_flat = outs.view(inputs.shape[0] * 9, 81)\n",
        "        #target_flat = targets.view(targets.shape[0] *9, 9)\n",
        "\n",
        "        # Calculate cross-entropy loss\n",
        "        #loss = F.cross_entropy(pred_flat, torch.argmax(target_flat, dim=1))\n",
        "\n",
        "\n",
        "        loss = criterion(outs,targets[:,0]/9)#\n",
        "        #print(loss)\n",
        "        #break\n",
        "        #loss = criterion(outs.reshape(outs.shape[0],1,9,9),targets)\n",
        "\n",
        "        loss.backward()\n",
        "        optimizer.step()\n",
        "\n",
        "        total_loss+= loss.item()\n",
        "        his2.append(loss.item())\n",
        "\n",
        "    avg_loss = total_loss/len(dataloader)\n",
        "    print(f'loss : {avg_loss}')"
      ],
      "metadata": {
        "colab": {
          "base_uri": "https://localhost:8080/"
        },
        "id": "FopaGq-HJlJj",
        "outputId": "ae033503-f49f-4e10-aa3e-5411092a024a"
      },
      "execution_count": 50,
      "outputs": [
        {
          "output_type": "stream",
          "name": "stdout",
          "text": [
            "loss : 11.029584628541755\n",
            "loss : 11.026364045984606\n",
            "loss : 11.021372680468938\n",
            "loss : 11.015251193814874\n",
            "loss : 11.008410412332285\n",
            "loss : 11.001683083946443\n",
            "loss : 10.996026861088355\n",
            "loss : 10.992088217869439\n",
            "loss : 10.989352582360777\n",
            "loss : 10.986601600256723\n"
          ]
        }
      ]
    },
    {
      "cell_type": "code",
      "source": [
        "plt.plot(his2)"
      ],
      "metadata": {
        "colab": {
          "base_uri": "https://localhost:8080/",
          "height": 447
        },
        "id": "INLEB6WoJ0rd",
        "outputId": "8c864da0-5a33-4b90-c2b1-bddaca05cbdd"
      },
      "execution_count": 51,
      "outputs": [
        {
          "output_type": "execute_result",
          "data": {
            "text/plain": [
              "[<matplotlib.lines.Line2D at 0x7ca1e97c4460>]"
            ]
          },
          "metadata": {},
          "execution_count": 51
        },
        {
          "output_type": "display_data",
          "data": {
            "text/plain": [
              "<Figure size 640x480 with 1 Axes>"
            ],
            "image/png": "[encoded data removed]"
          },
          "metadata": {}
        }
      ]
    },
    {
      "cell_type": "code",
      "source": [
        "all_output = np.zeros((10000, 9, 9))\n",
        "all_ids = []\n",
        "images_test_grid = np.load('images_test_grid.npy')\n",
        "for n in range(10000):\n",
        "  input = torch.tensor(images_test_grid[n]).float().reshape((1,1, 9,9)) # shape = batch_size, number of neurons in first layer of linear model.\n",
        "  output = (model(input)*9).int()\n",
        "  all_output[n] = images_test_grid[n]\n",
        "  for i in range(9):\n",
        "    for j in range(9):\n",
        "      id = f'{n}_{i}{j}'\n",
        "      all_ids.append(id)\n",
        "      #print(all_output[n,i,j])\n",
        "      if int(all_output[n,i,j]) ==0:\n",
        "        #print(all_output[n,i,j])\n",
        "        all_output[n, i, j] = output[0,i,j].item()\n"
      ],
      "metadata": {
        "id": "ahM5CMMVJ2Ku"
      },
      "execution_count": 52,
      "outputs": []
    },
    {
      "cell_type": "code",
      "source": [
        "all_output = all_output.reshape((810000))"
      ],
      "metadata": {
        "id": "itDXNTySkl30"
      },
      "execution_count": null,
      "outputs": []
    },
    {
      "cell_type": "code",
      "source": [
        "cs = {'id':all_ids,'value':all_output}\n",
        "csv = pd.DataFrame(cs)"
      ],
      "metadata": {
        "id": "GgGG1RyVkm9n",
        "colab": {
          "base_uri": "https://localhost:8080/",
          "height": 339
        },
        "outputId": "790405f8-8d7d-4a5c-de94-1a326d2dcb68"
      },
      "execution_count": 53,
      "outputs": [
        {
          "output_type": "error",
          "ename": "ValueError",
          "evalue": "Per-column arrays must each be 1-dimensional",
          "traceback": [
            "\u001b[0;31m---------------------------------------------------------------------------\u001b[0m",
            "\u001b[0;31mValueError\u001b[0m                                Traceback (most recent call last)",
            "\u001b[0;32m<ipython-input-53-97bb7582f7e5>\u001b[0m in \u001b[0;36m<cell line: 2>\u001b[0;34m()\u001b[0m\n\u001b[1;32m      1\u001b[0m \u001b[0mcs\u001b[0m \u001b[0;34m=\u001b[0m \u001b[0;34m{\u001b[0m\u001b[0;34m'id'\u001b[0m\u001b[0;34m:\u001b[0m\u001b[0mall_ids\u001b[0m\u001b[0;34m,\u001b[0m\u001b[0;34m'value'\u001b[0m\u001b[0;34m:\u001b[0m\u001b[0mall_output\u001b[0m\u001b[0;34m}\u001b[0m\u001b[0;34m\u001b[0m\u001b[0;34m\u001b[0m\u001b[0m\n\u001b[0;32m----> 2\u001b[0;31m \u001b[0mcsv\u001b[0m \u001b[0;34m=\u001b[0m \u001b[0mpd\u001b[0m\u001b[0;34m.\u001b[0m\u001b[0mDataFrame\u001b[0m\u001b[0;34m(\u001b[0m\u001b[0mcs\u001b[0m\u001b[0;34m)\u001b[0m\u001b[0;34m\u001b[0m\u001b[0;34m\u001b[0m\u001b[0m\n\u001b[0m",
            "\u001b[0;32m/usr/local/lib/python3.10/dist-packages/pandas/core/frame.py\u001b[0m in \u001b[0;36m__init__\u001b[0;34m(self, data, index, columns, dtype, copy)\u001b[0m\n\u001b[1;32m    662\u001b[0m         \u001b[0;32melif\u001b[0m \u001b[0misinstance\u001b[0m\u001b[0;34m(\u001b[0m\u001b[0mdata\u001b[0m\u001b[0;34m,\u001b[0m \u001b[0mdict\u001b[0m\u001b[0;34m)\u001b[0m\u001b[0;34m:\u001b[0m\u001b[0;34m\u001b[0m\u001b[0;34m\u001b[0m\u001b[0m\n\u001b[1;32m    663\u001b[0m             \u001b[0;31m# GH#38939 de facto copy defaults to False only in non-dict cases\u001b[0m\u001b[0;34m\u001b[0m\u001b[0;34m\u001b[0m\u001b[0m\n\u001b[0;32m--> 664\u001b[0;31m             \u001b[0mmgr\u001b[0m \u001b[0;34m=\u001b[0m \u001b[0mdict_to_mgr\u001b[0m\u001b[0;34m(\u001b[0m\u001b[0mdata\u001b[0m\u001b[0;34m,\u001b[0m \u001b[0mindex\u001b[0m\u001b[0;34m,\u001b[0m \u001b[0mcolumns\u001b[0m\u001b[0;34m,\u001b[0m \u001b[0mdtype\u001b[0m\u001b[0;34m=\u001b[0m\u001b[0mdtype\u001b[0m\u001b[0;34m,\u001b[0m \u001b[0mcopy\u001b[0m\u001b[0;34m=\u001b[0m\u001b[0mcopy\u001b[0m\u001b[0;34m,\u001b[0m \u001b[0mtyp\u001b[0m\u001b[0;34m=\u001b[0m\u001b[0mmanager\u001b[0m\u001b[0;34m)\u001b[0m\u001b[0;34m\u001b[0m\u001b[0;34m\u001b[0m\u001b[0m\n\u001b[0m\u001b[1;32m    665\u001b[0m         \u001b[0;32melif\u001b[0m \u001b[0misinstance\u001b[0m\u001b[0;34m(\u001b[0m\u001b[0mdata\u001b[0m\u001b[0;34m,\u001b[0m \u001b[0mma\u001b[0m\u001b[0;34m.\u001b[0m\u001b[0mMaskedArray\u001b[0m\u001b[0;34m)\u001b[0m\u001b[0;34m:\u001b[0m\u001b[0;34m\u001b[0m\u001b[0;34m\u001b[0m\u001b[0m\n\u001b[1;32m    666\u001b[0m             \u001b[0;32mimport\u001b[0m \u001b[0mnumpy\u001b[0m\u001b[0;34m.\u001b[0m\u001b[0mma\u001b[0m\u001b[0;34m.\u001b[0m\u001b[0mmrecords\u001b[0m \u001b[0;32mas\u001b[0m \u001b[0mmrecords\u001b[0m\u001b[0;34m\u001b[0m\u001b[0;34m\u001b[0m\u001b[0m\n",
            "\u001b[0;32m/usr/local/lib/python3.10/dist-packages/pandas/core/internals/construction.py\u001b[0m in \u001b[0;36mdict_to_mgr\u001b[0;34m(data, index, columns, dtype, typ, copy)\u001b[0m\n\u001b[1;32m    491\u001b[0m             \u001b[0marrays\u001b[0m \u001b[0;34m=\u001b[0m \u001b[0;34m[\u001b[0m\u001b[0mx\u001b[0m\u001b[0;34m.\u001b[0m\u001b[0mcopy\u001b[0m\u001b[0;34m(\u001b[0m\u001b[0;34m)\u001b[0m \u001b[0;32mif\u001b[0m \u001b[0mhasattr\u001b[0m\u001b[0;34m(\u001b[0m\u001b[0mx\u001b[0m\u001b[0;34m,\u001b[0m \u001b[0;34m\"dtype\"\u001b[0m\u001b[0;34m)\u001b[0m \u001b[0;32melse\u001b[0m \u001b[0mx\u001b[0m \u001b[0;32mfor\u001b[0m \u001b[0mx\u001b[0m \u001b[0;32min\u001b[0m \u001b[0marrays\u001b[0m\u001b[0;34m]\u001b[0m\u001b[0;34m\u001b[0m\u001b[0;34m\u001b[0m\u001b[0m\n\u001b[1;32m    492\u001b[0m \u001b[0;34m\u001b[0m\u001b[0m\n\u001b[0;32m--> 493\u001b[0;31m     \u001b[0;32mreturn\u001b[0m \u001b[0marrays_to_mgr\u001b[0m\u001b[0;34m(\u001b[0m\u001b[0marrays\u001b[0m\u001b[0;34m,\u001b[0m \u001b[0mcolumns\u001b[0m\u001b[0;34m,\u001b[0m \u001b[0mindex\u001b[0m\u001b[0;34m,\u001b[0m \u001b[0mdtype\u001b[0m\u001b[0;34m=\u001b[0m\u001b[0mdtype\u001b[0m\u001b[0;34m,\u001b[0m \u001b[0mtyp\u001b[0m\u001b[0;34m=\u001b[0m\u001b[0mtyp\u001b[0m\u001b[0;34m,\u001b[0m \u001b[0mconsolidate\u001b[0m\u001b[0;34m=\u001b[0m\u001b[0mcopy\u001b[0m\u001b[0;34m)\u001b[0m\u001b[0;34m\u001b[0m\u001b[0;34m\u001b[0m\u001b[0m\n\u001b[0m\u001b[1;32m    494\u001b[0m \u001b[0;34m\u001b[0m\u001b[0m\n\u001b[1;32m    495\u001b[0m \u001b[0;34m\u001b[0m\u001b[0m\n",
            "\u001b[0;32m/usr/local/lib/python3.10/dist-packages/pandas/core/internals/construction.py\u001b[0m in \u001b[0;36marrays_to_mgr\u001b[0;34m(arrays, columns, index, dtype, verify_integrity, typ, consolidate)\u001b[0m\n\u001b[1;32m    116\u001b[0m         \u001b[0;31m# figure out the index, if necessary\u001b[0m\u001b[0;34m\u001b[0m\u001b[0;34m\u001b[0m\u001b[0m\n\u001b[1;32m    117\u001b[0m         \u001b[0;32mif\u001b[0m \u001b[0mindex\u001b[0m \u001b[0;32mis\u001b[0m \u001b[0;32mNone\u001b[0m\u001b[0;34m:\u001b[0m\u001b[0;34m\u001b[0m\u001b[0;34m\u001b[0m\u001b[0m\n\u001b[0;32m--> 118\u001b[0;31m             \u001b[0mindex\u001b[0m \u001b[0;34m=\u001b[0m \u001b[0m_extract_index\u001b[0m\u001b[0;34m(\u001b[0m\u001b[0marrays\u001b[0m\u001b[0;34m)\u001b[0m\u001b[0;34m\u001b[0m\u001b[0;34m\u001b[0m\u001b[0m\n\u001b[0m\u001b[1;32m    119\u001b[0m         \u001b[0;32melse\u001b[0m\u001b[0;34m:\u001b[0m\u001b[0;34m\u001b[0m\u001b[0;34m\u001b[0m\u001b[0m\n\u001b[1;32m    120\u001b[0m             \u001b[0mindex\u001b[0m \u001b[0;34m=\u001b[0m \u001b[0mensure_index\u001b[0m\u001b[0;34m(\u001b[0m\u001b[0mindex\u001b[0m\u001b[0;34m)\u001b[0m\u001b[0;34m\u001b[0m\u001b[0;34m\u001b[0m\u001b[0m\n",
            "\u001b[0;32m/usr/local/lib/python3.10/dist-packages/pandas/core/internals/construction.py\u001b[0m in \u001b[0;36m_extract_index\u001b[0;34m(data)\u001b[0m\n\u001b[1;32m    651\u001b[0m                 \u001b[0mraw_lengths\u001b[0m\u001b[0;34m.\u001b[0m\u001b[0mappend\u001b[0m\u001b[0;34m(\u001b[0m\u001b[0mlen\u001b[0m\u001b[0;34m(\u001b[0m\u001b[0mval\u001b[0m\u001b[0;34m)\u001b[0m\u001b[0;34m)\u001b[0m\u001b[0;34m\u001b[0m\u001b[0;34m\u001b[0m\u001b[0m\n\u001b[1;32m    652\u001b[0m             \u001b[0;32melif\u001b[0m \u001b[0misinstance\u001b[0m\u001b[0;34m(\u001b[0m\u001b[0mval\u001b[0m\u001b[0;34m,\u001b[0m \u001b[0mnp\u001b[0m\u001b[0;34m.\u001b[0m\u001b[0mndarray\u001b[0m\u001b[0;34m)\u001b[0m \u001b[0;32mand\u001b[0m \u001b[0mval\u001b[0m\u001b[0;34m.\u001b[0m\u001b[0mndim\u001b[0m \u001b[0;34m>\u001b[0m \u001b[0;36m1\u001b[0m\u001b[0;34m:\u001b[0m\u001b[0;34m\u001b[0m\u001b[0;34m\u001b[0m\u001b[0m\n\u001b[0;32m--> 653\u001b[0;31m                 \u001b[0;32mraise\u001b[0m \u001b[0mValueError\u001b[0m\u001b[0;34m(\u001b[0m\u001b[0;34m\"Per-column arrays must each be 1-dimensional\"\u001b[0m\u001b[0;34m)\u001b[0m\u001b[0;34m\u001b[0m\u001b[0;34m\u001b[0m\u001b[0m\n\u001b[0m\u001b[1;32m    654\u001b[0m \u001b[0;34m\u001b[0m\u001b[0m\n\u001b[1;32m    655\u001b[0m         \u001b[0;32mif\u001b[0m \u001b[0;32mnot\u001b[0m \u001b[0mindexes\u001b[0m \u001b[0;32mand\u001b[0m \u001b[0;32mnot\u001b[0m \u001b[0mraw_lengths\u001b[0m\u001b[0;34m:\u001b[0m\u001b[0;34m\u001b[0m\u001b[0;34m\u001b[0m\u001b[0m\n",
            "\u001b[0;31mValueError\u001b[0m: Per-column arrays must each be 1-dimensional"
          ]
        }
      ]
    },
    {
      "cell_type": "code",
      "source": [
        "csv.to_csv('submissionT2.csv',index=False)"
      ],
      "metadata": {
        "id": "YUIiFRpFiSGa"
      },
      "execution_count": null,
      "outputs": []
    }
  ],
  "metadata": {
    "colab": {
      "provenance": []
    },
    "kernelspec": {
      "display_name": "Python 3",
      "name": "python3"
    },
    "language_info": {
      "codemirror_mode": {
        "name": "ipython",
        "version": 3
      },
      "file_extension": ".py",
      "mimetype": "text/x-python",
      "name": "python",
      "nbconvert_exporter": "python",
      "pygments_lexer": "ipython3",
      "version": "3.10.9"
    }
  },
  "nbformat": 4,
  "nbformat_minor": 0
}